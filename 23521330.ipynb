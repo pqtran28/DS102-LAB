{
 "cells": [
  {
   "cell_type": "markdown",
   "metadata": {},
   "source": [
    "### Assignment 1 (3 scores):\n",
    "\n",
    "- Use the Numpy library only to construct the Linear Regression model.\n",
    "- Train and Evaluate that Linear Regression model on the [Forest Fires](https://archive.ics.uci.edu/static/public/162/forest+fires.zip) dataset."
   ]
  },
  {
   "cell_type": "code",
   "execution_count": 1,
   "metadata": {},
   "outputs": [],
   "source": [
    "import numpy as np\n",
    "import pandas as pd\n",
    "import matplotlib.pyplot as plt\n",
    "import seaborn as sns"
   ]
  },
  {
   "cell_type": "markdown",
   "metadata": {},
   "source": [
    "**Preprocessing the data**"
   ]
  },
  {
   "cell_type": "code",
   "execution_count": 2,
   "metadata": {},
   "outputs": [],
   "source": [
    "df = pd.read_csv(\"forestfires.csv\")"
   ]
  },
  {
   "cell_type": "code",
   "execution_count": 3,
   "metadata": {},
   "outputs": [
    {
     "name": "stdout",
     "output_type": "stream",
     "text": [
      "Column X\n",
      "Total NaN:  0\n",
      "Data type:  int64\n",
      "Total null:  0\n",
      "----------\n",
      "Column Y\n",
      "Total NaN:  0\n",
      "Data type:  int64\n",
      "Total null:  0\n",
      "----------\n",
      "Column month\n",
      "Total NaN:  0\n",
      "Data type:  object\n",
      "Total null:  0\n",
      "----------\n",
      "Column day\n",
      "Total NaN:  0\n",
      "Data type:  object\n",
      "Total null:  0\n",
      "----------\n",
      "Column FFMC\n",
      "Total NaN:  0\n",
      "Data type:  float64\n",
      "Total null:  0\n",
      "----------\n",
      "Column DMC\n",
      "Total NaN:  0\n",
      "Data type:  float64\n",
      "Total null:  0\n",
      "----------\n",
      "Column DC\n",
      "Total NaN:  0\n",
      "Data type:  float64\n",
      "Total null:  0\n",
      "----------\n",
      "Column ISI\n",
      "Total NaN:  0\n",
      "Data type:  float64\n",
      "Total null:  0\n",
      "----------\n",
      "Column temp\n",
      "Total NaN:  0\n",
      "Data type:  float64\n",
      "Total null:  0\n",
      "----------\n",
      "Column RH\n",
      "Total NaN:  0\n",
      "Data type:  int64\n",
      "Total null:  0\n",
      "----------\n",
      "Column wind\n",
      "Total NaN:  0\n",
      "Data type:  float64\n",
      "Total null:  0\n",
      "----------\n",
      "Column rain\n",
      "Total NaN:  0\n",
      "Data type:  float64\n",
      "Total null:  0\n",
      "----------\n",
      "Column area\n",
      "Total NaN:  0\n",
      "Data type:  float64\n",
      "Total null:  0\n",
      "----------\n"
     ]
    }
   ],
   "source": [
    "for col_name in df.columns:\n",
    "    print(f\"Column {col_name}\")\n",
    "    print(\"Total NaN: \", df[col_name].isna().sum())\n",
    "    print(\"Data type: \", df[col_name].dtype)\n",
    "    print(\"Total null: \", df[col_name].isnull().sum())\n",
    "    print(\"-\"*10)"
   ]
  },
  {
   "cell_type": "code",
   "execution_count": 4,
   "metadata": {},
   "outputs": [
    {
     "name": "stdout",
     "output_type": "stream",
     "text": [
      "<class 'pandas.core.frame.DataFrame'>\n",
      "RangeIndex: 517 entries, 0 to 516\n",
      "Data columns (total 13 columns):\n",
      " #   Column  Non-Null Count  Dtype  \n",
      "---  ------  --------------  -----  \n",
      " 0   X       517 non-null    int64  \n",
      " 1   Y       517 non-null    int64  \n",
      " 2   month   517 non-null    object \n",
      " 3   day     517 non-null    object \n",
      " 4   FFMC    517 non-null    float64\n",
      " 5   DMC     517 non-null    float64\n",
      " 6   DC      517 non-null    float64\n",
      " 7   ISI     517 non-null    float64\n",
      " 8   temp    517 non-null    float64\n",
      " 9   RH      517 non-null    int64  \n",
      " 10  wind    517 non-null    float64\n",
      " 11  rain    517 non-null    float64\n",
      " 12  area    517 non-null    float64\n",
      "dtypes: float64(8), int64(3), object(2)\n",
      "memory usage: 52.6+ KB\n"
     ]
    }
   ],
   "source": [
    "df.info()"
   ]
  },
  {
   "cell_type": "code",
   "execution_count": 5,
   "metadata": {},
   "outputs": [
    {
     "data": {
      "application/vnd.microsoft.datawrangler.viewer.v0+json": {
       "columns": [
        {
         "name": "index",
         "rawType": "int64",
         "type": "integer"
        },
        {
         "name": "month",
         "rawType": "object",
         "type": "string"
        },
        {
         "name": "day",
         "rawType": "object",
         "type": "string"
        }
       ],
       "ref": "e8f82123-b88c-42ec-a1b6-84db9102e84d",
       "rows": [
        [
         "0",
         "mar",
         "fri"
        ],
        [
         "1",
         "oct",
         "tue"
        ],
        [
         "2",
         "oct",
         "sat"
        ],
        [
         "3",
         "mar",
         "fri"
        ],
        [
         "4",
         "mar",
         "sun"
        ],
        [
         "5",
         "aug",
         "sun"
        ],
        [
         "6",
         "aug",
         "mon"
        ],
        [
         "7",
         "aug",
         "mon"
        ],
        [
         "8",
         "sep",
         "tue"
        ],
        [
         "9",
         "sep",
         "sat"
        ],
        [
         "10",
         "sep",
         "sat"
        ],
        [
         "11",
         "sep",
         "sat"
        ],
        [
         "12",
         "aug",
         "fri"
        ],
        [
         "13",
         "sep",
         "mon"
        ],
        [
         "14",
         "sep",
         "wed"
        ],
        [
         "15",
         "sep",
         "fri"
        ],
        [
         "16",
         "mar",
         "sat"
        ],
        [
         "17",
         "oct",
         "mon"
        ],
        [
         "18",
         "mar",
         "wed"
        ],
        [
         "19",
         "apr",
         "sat"
        ],
        [
         "20",
         "sep",
         "tue"
        ],
        [
         "21",
         "sep",
         "mon"
        ],
        [
         "22",
         "jun",
         "sun"
        ],
        [
         "23",
         "aug",
         "sat"
        ],
        [
         "24",
         "aug",
         "sat"
        ],
        [
         "25",
         "aug",
         "sun"
        ],
        [
         "26",
         "sep",
         "fri"
        ],
        [
         "27",
         "sep",
         "mon"
        ],
        [
         "28",
         "sep",
         "sat"
        ],
        [
         "29",
         "sep",
         "sun"
        ],
        [
         "30",
         "sep",
         "fri"
        ],
        [
         "31",
         "sep",
         "mon"
        ],
        [
         "32",
         "sep",
         "fri"
        ],
        [
         "33",
         "sep",
         "sun"
        ],
        [
         "34",
         "sep",
         "mon"
        ],
        [
         "35",
         "sep",
         "tue"
        ],
        [
         "36",
         "oct",
         "tue"
        ],
        [
         "37",
         "oct",
         "fri"
        ],
        [
         "38",
         "oct",
         "sat"
        ],
        [
         "39",
         "mar",
         "tue"
        ],
        [
         "40",
         "jul",
         "tue"
        ],
        [
         "41",
         "aug",
         "sat"
        ],
        [
         "42",
         "aug",
         "tue"
        ],
        [
         "43",
         "sep",
         "sat"
        ],
        [
         "44",
         "sep",
         "wed"
        ],
        [
         "45",
         "sep",
         "wed"
        ],
        [
         "46",
         "sep",
         "mon"
        ],
        [
         "47",
         "jul",
         "mon"
        ],
        [
         "48",
         "mar",
         "mon"
        ],
        [
         "49",
         "mar",
         "mon"
        ]
       ],
       "shape": {
        "columns": 2,
        "rows": 517
       }
      },
      "text/html": [
       "<div>\n",
       "<style scoped>\n",
       "    .dataframe tbody tr th:only-of-type {\n",
       "        vertical-align: middle;\n",
       "    }\n",
       "\n",
       "    .dataframe tbody tr th {\n",
       "        vertical-align: top;\n",
       "    }\n",
       "\n",
       "    .dataframe thead th {\n",
       "        text-align: right;\n",
       "    }\n",
       "</style>\n",
       "<table border=\"1\" class=\"dataframe\">\n",
       "  <thead>\n",
       "    <tr style=\"text-align: right;\">\n",
       "      <th></th>\n",
       "      <th>month</th>\n",
       "      <th>day</th>\n",
       "    </tr>\n",
       "  </thead>\n",
       "  <tbody>\n",
       "    <tr>\n",
       "      <th>0</th>\n",
       "      <td>mar</td>\n",
       "      <td>fri</td>\n",
       "    </tr>\n",
       "    <tr>\n",
       "      <th>1</th>\n",
       "      <td>oct</td>\n",
       "      <td>tue</td>\n",
       "    </tr>\n",
       "    <tr>\n",
       "      <th>2</th>\n",
       "      <td>oct</td>\n",
       "      <td>sat</td>\n",
       "    </tr>\n",
       "    <tr>\n",
       "      <th>3</th>\n",
       "      <td>mar</td>\n",
       "      <td>fri</td>\n",
       "    </tr>\n",
       "    <tr>\n",
       "      <th>4</th>\n",
       "      <td>mar</td>\n",
       "      <td>sun</td>\n",
       "    </tr>\n",
       "    <tr>\n",
       "      <th>...</th>\n",
       "      <td>...</td>\n",
       "      <td>...</td>\n",
       "    </tr>\n",
       "    <tr>\n",
       "      <th>512</th>\n",
       "      <td>aug</td>\n",
       "      <td>sun</td>\n",
       "    </tr>\n",
       "    <tr>\n",
       "      <th>513</th>\n",
       "      <td>aug</td>\n",
       "      <td>sun</td>\n",
       "    </tr>\n",
       "    <tr>\n",
       "      <th>514</th>\n",
       "      <td>aug</td>\n",
       "      <td>sun</td>\n",
       "    </tr>\n",
       "    <tr>\n",
       "      <th>515</th>\n",
       "      <td>aug</td>\n",
       "      <td>sat</td>\n",
       "    </tr>\n",
       "    <tr>\n",
       "      <th>516</th>\n",
       "      <td>nov</td>\n",
       "      <td>tue</td>\n",
       "    </tr>\n",
       "  </tbody>\n",
       "</table>\n",
       "<p>517 rows × 2 columns</p>\n",
       "</div>"
      ],
      "text/plain": [
       "    month  day\n",
       "0     mar  fri\n",
       "1     oct  tue\n",
       "2     oct  sat\n",
       "3     mar  fri\n",
       "4     mar  sun\n",
       "..    ...  ...\n",
       "512   aug  sun\n",
       "513   aug  sun\n",
       "514   aug  sun\n",
       "515   aug  sat\n",
       "516   nov  tue\n",
       "\n",
       "[517 rows x 2 columns]"
      ]
     },
     "execution_count": 5,
     "metadata": {},
     "output_type": "execute_result"
    }
   ],
   "source": [
    "df.select_dtypes('object')"
   ]
  },
  {
   "cell_type": "code",
   "execution_count": 6,
   "metadata": {},
   "outputs": [
    {
     "data": {
      "text/plain": [
       "array(['fri', 'tue', 'sat', 'sun', 'mon', 'wed', 'thu'], dtype=object)"
      ]
     },
     "execution_count": 6,
     "metadata": {},
     "output_type": "execute_result"
    }
   ],
   "source": [
    "df['day'].unique()"
   ]
  },
  {
   "cell_type": "code",
   "execution_count": 7,
   "metadata": {},
   "outputs": [],
   "source": [
    "month_map_dict = {\n",
    "        'jan': 1, 'feb': 2, 'mar': 3, 'apr': 4,\n",
    "        'may': 5, 'jun': 6, 'jul': 7, 'aug': 8,\n",
    "        'sep': 9, 'oct': 10, 'nov': 11, 'dec': 12\n",
    "    }\n",
    "\n",
    "day_map_dict = {\n",
    "        'fri': 6, 'tue': 3, 'sat': 7, 'sun': 1, 'mon': 2, 'wed': 4, 'thu': 5\n",
    "    }\n",
    "\n",
    "df['month'] = df['month'].map(month_map_dict)\n",
    "df['day'] = df['day'].map(day_map_dict)\n",
    "y = df['area'].copy()\n",
    "X = df[[i for i in df.columns if i != 'area']].copy()"
   ]
  },
  {
   "cell_type": "code",
   "execution_count": 8,
   "metadata": {},
   "outputs": [
    {
     "name": "stdout",
     "output_type": "stream",
     "text": [
      "<class 'pandas.core.frame.DataFrame'>\n",
      "RangeIndex: 517 entries, 0 to 516\n",
      "Data columns (total 12 columns):\n",
      " #   Column  Non-Null Count  Dtype  \n",
      "---  ------  --------------  -----  \n",
      " 0   X       517 non-null    int64  \n",
      " 1   Y       517 non-null    int64  \n",
      " 2   month   517 non-null    int64  \n",
      " 3   day     517 non-null    int64  \n",
      " 4   FFMC    517 non-null    float64\n",
      " 5   DMC     517 non-null    float64\n",
      " 6   DC      517 non-null    float64\n",
      " 7   ISI     517 non-null    float64\n",
      " 8   temp    517 non-null    float64\n",
      " 9   RH      517 non-null    int64  \n",
      " 10  wind    517 non-null    float64\n",
      " 11  rain    517 non-null    float64\n",
      "dtypes: float64(7), int64(5)\n",
      "memory usage: 48.6 KB\n"
     ]
    }
   ],
   "source": [
    "X.info()"
   ]
  },
  {
   "cell_type": "code",
   "execution_count": 9,
   "metadata": {},
   "outputs": [],
   "source": [
    "# Thêm intercept Beta0:\n",
    "X_new = np.c_[np.ones(X.shape[0],int),X]"
   ]
  },
  {
   "cell_type": "code",
   "execution_count": 10,
   "metadata": {},
   "outputs": [
    {
     "data": {
      "text/plain": [
       "(517, 13)"
      ]
     },
     "execution_count": 10,
     "metadata": {},
     "output_type": "execute_result"
    }
   ],
   "source": [
    "X_new.shape"
   ]
  },
  {
   "cell_type": "markdown",
   "metadata": {},
   "source": [
    "**Model**\n",
    "- *Sum of square error*: \n",
    "$$\n",
    "    E(X, y, \\beta) = \\frac{1}{2}\\sum_{i=1}^n{(y_n - f(x_n))^2} = \\frac{1}{2}\\sum_{i=1}^n{(y_n - x_n \\beta)^2} = \\frac{1}{2} ||y - \\beta X||^2\n",
    "$$\n",
    "\n",
    "- *Mean Square error (MSE)*:\n",
    "$$\n",
    "    E(X, y, \\beta) = \\frac{1}{n}\\sum_{i=1}^n{(y_n - f(x_n))^2} = \\frac{1}{n}\\sum_{i=1}^n{(y_n - x_n \\beta)^2} = \\frac{1}{n} ||y - \\beta X||^2\n",
    "$$\n",
    "\n",
    "- *Root mean square error (RMSE)*:\n",
    "$$\n",
    "    E(X, y, \\beta) = \\sqrt{\\frac{1}{n}\\sum_{i=1}^n{(y_n - f(x_n))^2}} = \\sqrt{\\frac{1}{n}\\sum_{i=1}^n{(y_n - x_n \\beta)^2}} = \\sqrt{\\frac{1}{n} ||y - \\beta X||^2}\n",
    "$$\n",
    "\n",
    "- The **Ordinary Least Square** (OLS) estimator:\n",
    "$$\n",
    "    \\hat{\\beta} = (X^TX)^{-1} X^Ty\n",
    "$$\n"
   ]
  },
  {
   "cell_type": "code",
   "execution_count": 11,
   "metadata": {},
   "outputs": [],
   "source": [
    "y = np.array(y)\n",
    "y = y.reshape(-1,1)"
   ]
  },
  {
   "cell_type": "code",
   "execution_count": 12,
   "metadata": {},
   "outputs": [],
   "source": [
    "class LinearRegression:\n",
    "    def mse(self, y: np.ndarray, y_pred: np.ndarray):\n",
    "        delta = y - y_pred\n",
    "        return (np.mean(delta**2))\n",
    "    \n",
    "    def fit(self, y: np.ndarray, X: np.ndarray):\n",
    "        self.theta_ : np.ndarray = np.linalg.inv(X.T @ X) @ X.T @ y\n",
    "\n",
    "    def predict(self, X: np.ndarray):\n",
    "        y_pred = X @ self.theta_\n",
    "        return y_pred"
   ]
  },
  {
   "cell_type": "code",
   "execution_count": 13,
   "metadata": {},
   "outputs": [],
   "source": [
    "lr = LinearRegression()\n",
    "lr.fit(y,X_new)"
   ]
  },
  {
   "cell_type": "code",
   "execution_count": 14,
   "metadata": {},
   "outputs": [],
   "source": [
    "y_pred = lr.predict(X_new)"
   ]
  },
  {
   "cell_type": "code",
   "execution_count": 15,
   "metadata": {},
   "outputs": [],
   "source": [
    "mse = lr.mse(y=y, y_pred=y_pred)"
   ]
  },
  {
   "cell_type": "code",
   "execution_count": 16,
   "metadata": {},
   "outputs": [
    {
     "data": {
      "text/plain": [
       "np.float64(3941.7017448546594)"
      ]
     },
     "execution_count": 16,
     "metadata": {},
     "output_type": "execute_result"
    }
   ],
   "source": [
    "mse"
   ]
  },
  {
   "cell_type": "markdown",
   "metadata": {},
   "source": [
    "### Assignment 2 (3 scores):\n",
    "\n",
    "- Standardize the data so that their mean is $0$ and their variance is $1$.\n",
    "- Compare the results of Linear Regression model when being trained on the original and standardized data."
   ]
  },
  {
   "cell_type": "code",
   "execution_count": 17,
   "metadata": {},
   "outputs": [],
   "source": [
    "class ZscoreScaler:\n",
    "    \n",
    "    def __init__(self):\n",
    "        mean_ = None\n",
    "        std_ = None\n",
    "\n",
    "    def fit(self, X: pd.DataFrame):\n",
    "        self.mean_ = X.mean()\n",
    "        self.std_ = X.std()\n",
    "\n",
    "    def transform(self, X: pd.DataFrame):\n",
    "        X = (X - self.mean_)/self.std_\n",
    "        return X\n",
    "    \n",
    "    def fit_transform(self, X: pd.DataFrame):\n",
    "        self.fit(X)\n",
    "        return self.transform(X)"
   ]
  },
  {
   "cell_type": "code",
   "execution_count": 18,
   "metadata": {},
   "outputs": [
    {
     "data": {
      "text/plain": [
       "array([[ 1.        ,  1.00733714,  0.56930904, ...,  0.41132597,\n",
       "         1.49716438, -0.07319742],\n",
       "       [ 1.        ,  1.00733714, -0.24376492, ..., -0.69178627,\n",
       "        -1.74007034, -0.07319742],\n",
       "       [ 1.        ,  1.00733714, -0.24376492, ..., -0.69178627,\n",
       "        -1.51681277, -0.07319742],\n",
       "       ...,\n",
       "       [ 1.        ,  1.00733714, -0.24376492, ...,  1.57572222,\n",
       "         1.49716438, -0.07319742],\n",
       "       [ 1.        , -1.58582453, -0.24376492, ..., -0.14023015,\n",
       "        -0.0098242 , -0.07319742],\n",
       "       [ 1.        ,  0.57514353, -1.05683889, ..., -0.8143543 ,\n",
       "         0.26924776, -0.07319742]])"
      ]
     },
     "execution_count": 18,
     "metadata": {},
     "output_type": "execute_result"
    }
   ],
   "source": [
    "scaler = ZscoreScaler()\n",
    "X_scaled = scaler.fit_transform(X)\n",
    "\n",
    "# Thêm intercept:\n",
    "X_scaled_new = np.c_[np.ones(X_scaled.shape[0],int),X_scaled]\n",
    "X_scaled_new"
   ]
  },
  {
   "cell_type": "code",
   "execution_count": 19,
   "metadata": {},
   "outputs": [],
   "source": [
    "# So sánh với khi train trên data được scale\n",
    "lr_new = LinearRegression()\n",
    "lr_new.fit(y,X_scaled_new)\n",
    "y_pred_scaleddata = lr_new.predict(X_scaled_new)\n",
    "mse_new = np.float64(lr_new.mse(y, y_pred_scaleddata))"
   ]
  },
  {
   "cell_type": "code",
   "execution_count": 20,
   "metadata": {},
   "outputs": [
    {
     "name": "stdout",
     "output_type": "stream",
     "text": [
      "3941.70174485466\n"
     ]
    }
   ],
   "source": [
    "print(mse_new)"
   ]
  },
  {
   "cell_type": "code",
   "execution_count": 21,
   "metadata": {},
   "outputs": [
    {
     "name": "stdout",
     "output_type": "stream",
     "text": [
      "Chênh lệch trước và sau chuẩn hóa:  -4.547473508864641e-13\n"
     ]
    }
   ],
   "source": [
    "print('Chênh lệch trước và sau chuẩn hóa: ', mse-mse_new)"
   ]
  },
  {
   "cell_type": "markdown",
   "metadata": {},
   "source": [
    "#### Data normalization"
   ]
  },
  {
   "cell_type": "markdown",
   "metadata": {},
   "source": [
    "The OLS estimator of a linear regression model has the form\n",
    "\n",
    "$$\n",
    "    \\hat{\\beta} = (X^T X)^{-1} X^T y\n",
    "$$\n",
    "where $X^T X \\in \\mathbb{R}^{K \\times K}$ is called the normal matrix of the **Gram Matrix**.\n",
    "\n",
    "Considering the convariance of $X$, we have\n",
    "\n",
    "\\begin{align}\n",
    "    Cov(X)  & = \\mathbb{E}[(X - \\mathbb{E}[X])^2] \\\\\n",
    "            & = \\mathbb{E}[X^T X - 2 X^T\\mathbb{E}[X] + \\mathbb{E}[X]^T \\mathbb{E}[X]] \\\\\n",
    "            & = \\mathbb{E}[X^T X] - 2 \\mathbb{E}[X^T\\mathbb{E}[X]] + \\mathbb{E}[X]^T \\mathbb{E}[X] \\\\\n",
    "            & = \\mathbb{E}[X^T X] - 2 \\mathbb{E}[X]^T\\mathbb{E}[X] + \\mathbb{E}[X]^T \\mathbb{E}[X] \\\\\n",
    "            & = \\mathbb{E}[X^T X] - \\mathbb{E}[X]^T \\mathbb{E}[X] \\\\\n",
    "\\end{align}\n",
    "\n",
    "In case we have $\\mathbb{E}[X] = 0$, then $X^T X = Cov(X)$. The normalization helps we to have the numerical stability of the input, theoretically leads to stable calculation when being applied to unseen data."
   ]
  },
  {
   "cell_type": "markdown",
   "metadata": {},
   "source": [
    "### Assignment 3 (2 scores):\n",
    "\n",
    "- Perform feature engineering to remove columns that are linearly dependent (colinear) with other columns in the dataset.\n",
    "- Evaluate the Linear Regression model when beeing trained on the original data and preprocessed data."
   ]
  },
  {
   "cell_type": "code",
   "execution_count": 22,
   "metadata": {},
   "outputs": [
    {
     "data": {
      "text/plain": [
       "<Axes: title={'center': 'Correlation Matrix'}>"
      ]
     },
     "execution_count": 22,
     "metadata": {},
     "output_type": "execute_result"
    },
    {
     "data": {
      "image/png": "[encoded data removed]",
      "text/plain": [
       "<Figure size 1000x1000 with 2 Axes>"
      ]
     },
     "metadata": {},
     "output_type": "display_data"
    }
   ],
   "source": [
    "corr_matrix = df.corr()\n",
    "plt.figure(figsize=(10,10))\n",
    "plt.title('Correlation Matrix')\n",
    "sns.heatmap(data=corr_matrix,cmap='crest',annot=True,linewidths=0.5,fmt='.2f')"
   ]
  },
  {
   "cell_type": "markdown",
   "metadata": {},
   "source": [
    "**Colinearity (numerical variables)**\n",
    "- 2 biến (không bao gồm biến mục tiêu) có tương quan với nhau cao -> bỏ 1 biến\n",
    "- Biến <=> Biến mục tiêu -> đánh trọng số cao cho Biến"
   ]
  },
  {
   "cell_type": "markdown",
   "metadata": {},
   "source": [
    "- Các cột có tương quan cao: DC và month (0.87)"
   ]
  },
  {
   "cell_type": "code",
   "execution_count": 24,
   "metadata": {},
   "outputs": [
    {
     "name": "stdout",
     "output_type": "stream",
     "text": [
      "MSE với data được tiền xử lý (scale, loại bỏ 1 cột):  3949.2287487089698\n",
      "Chênh lệch MSE so với mô hình chạy trên data chưa được tiền xử lý:  7.527003854310351\n"
     ]
    }
   ],
   "source": [
    "# Bỏ cột tương quan tuyến tính cao với cột còn lại\n",
    "X_preprocessed = X[[i for i in X.columns if i != 'DC']].copy()\n",
    "\n",
    "# Scale data\n",
    "scaler_preprocessed = ZscoreScaler()\n",
    "X_preprocessed = scaler_preprocessed.fit_transform(X_preprocessed)\n",
    "\n",
    "# Thêm intercept\n",
    "X_preprocessed = np.c_[np.ones(X_preprocessed.shape[0],int),X_preprocessed]\n",
    "\n",
    "# Chạy linear regression\n",
    "lr_preprocessed_data = LinearRegression()\n",
    "lr_preprocessed_data.fit(y,X_preprocessed)\n",
    "\n",
    "y_preprocessed = lr_preprocessed_data.predict(X_preprocessed)\n",
    "mse_preprocessed = lr_preprocessed_data.mse(y,y_preprocessed)\n",
    "\n",
    "print('MSE với data được tiền xử lý (scale, loại bỏ 1 cột): ', mse_preprocessed)\n",
    "print('Chênh lệch MSE so với mô hình chạy trên data chưa được tiền xử lý: ', abs(mse_preprocessed - mse))"
   ]
  },
  {
   "cell_type": "markdown",
   "metadata": {},
   "source": [
    "- Sau khi bỏ 1 cột, MSE tăng nhẹ, nhưng mô hình đỡ bị đa cộng tuyến hơn"
   ]
  },
  {
   "cell_type": "markdown",
   "metadata": {},
   "source": [
    "#### On the Problem of Colinearity\n",
    "\n",
    "As stated previously, the OLS of the linear regression model is achieved by assuming that $rank(X) = K$ or $det(X) \\ne 0$. So that removing columns in $X$ having colinearity with other columns is to ensure that assumption of the full rank condition of $X$. In the case $det(X) = 0$, then the **Moore-Penrose inverse** will be applied to determine the pseudo-inverse matrix of $X^T X$."
   ]
  },
  {
   "cell_type": "markdown",
   "metadata": {},
   "source": [
    "### Assignment 4 (2 scores):\n",
    "\n",
    "- Implement the Linear Regression model using Machine Learning libraries (Scikit Learn or SKorch).\n",
    "- Compare the results of Linear Regression model constructed manually and from Machine Learning libraries."
   ]
  },
  {
   "cell_type": "code",
   "execution_count": 93,
   "metadata": {},
   "outputs": [
    {
     "name": "stdout",
     "output_type": "stream",
     "text": [
      "MSE của mô hình tự code Numpy:  3949.2287487089698\n",
      "MSE của sklearn:  3949.2287487089698\n",
      "Sai lệch của 2 mô hình:  0.0\n"
     ]
    }
   ],
   "source": [
    "from sklearn.linear_model import LinearRegression\n",
    "from sklearn.metrics import mean_squared_error\n",
    "\n",
    "model = LinearRegression()\n",
    "model.fit(X_preprocessed,y)\n",
    "\n",
    "y_pred_sklearn = model.predict(X_preprocessed)\n",
    "mse_sklearn = mean_squared_error(y, y_pred_sklearn)\n",
    "print('MSE của mô hình tự code Numpy: ', mse_preprocessed)\n",
    "print('MSE của sklearn: ', mse_sklearn)\n",
    "print('Sai lệch của 2 mô hình: ', abs(mse_preprocessed - mse_sklearn))"
   ]
  },
  {
   "cell_type": "markdown",
   "metadata": {},
   "source": [
    "Mô hình có sẵn trong sklearn giúp huấn luyện nhanh hơn trong khi không có chênh lệch giữa MSE của mô hình có sẵn và mô hình tự làm bằng Numpy"
   ]
  }
 ],
 "metadata": {
  "kernelspec": {
   "display_name": "Python 3",
   "language": "python",
   "name": "python3"
  },
  "language_info": {
   "codemirror_mode": {
    "name": "ipython",
    "version": 3
   },
   "file_extension": ".py",
   "mimetype": "text/x-python",
   "name": "python",
   "nbconvert_exporter": "python",
   "pygments_lexer": "ipython3",
   "version": "3.12.1"
  }
 },
 "nbformat": 4,
 "nbformat_minor": 2
}
